{
 "cells": [
  {
   "cell_type": "code",
   "execution_count": 1,
   "metadata": {},
   "outputs": [
    {
     "name": "stderr",
     "output_type": "stream",
     "text": [
      "/opt/homebrew/Caskroom/miniconda/base/envs/dlcv/lib/python3.8/site-packages/tqdm/auto.py:22: TqdmWarning: IProgress not found. Please update jupyter and ipywidgets. See https://ipywidgets.readthedocs.io/en/stable/user_install.html\n",
      "  from .autonotebook import tqdm as notebook_tqdm\n"
     ]
    }
   ],
   "source": [
    "import numpy as np\n",
    "from torch.autograd import Variable\n",
    "import torch\n",
    "import random\n",
    "from typing import List, Callable\n",
    "import matplotlib.pyplot as plt\n",
    "import time\n",
    "\n",
    "seed = 999\n",
    "torch.manual_seed(seed)\n",
    "random.seed(seed)"
   ]
  },
  {
   "cell_type": "markdown",
   "metadata": {},
   "source": [
    "## Gradient-Filter-based Distributed Gradient Descent"
   ]
  },
  {
   "cell_type": "code",
   "execution_count": 9,
   "metadata": {},
   "outputs": [],
   "source": [
    "\n",
    "def CGEFilter(gradients: List[torch.Tensor], n: int, f: int):\n",
    "    assert (f <= n)\n",
    "    tmp = sorted(gradients, key=lambda x: x.norm())\n",
    "    return sum(tmp[:n-f])\n",
    "\n",
    "\n",
    "def decision(p):\n",
    "    '''Make the decision with probability p'''\n",
    "    return random.random() < p\n",
    "\n",
    "\n"
   ]
  },
  {
   "cell_type": "code",
   "execution_count": 15,
   "metadata": {},
   "outputs": [
    {
     "name": "stdout",
     "output_type": "stream",
     "text": [
      "step: 9 | loss: 7607934.500000 | grad norm: 0.688400 | step size: 0.081707327000\r"
     ]
    }
   ],
   "source": [
    "agents_cost = [\n",
    "    lambda X: sum((X-1000)**2),\n",
    "    lambda X: sum((X-5)**2),\n",
    "    lambda X: sum((X+7)**2),\n",
    "    lambda X: sum(X**2) - sum(X),\n",
    "    lambda X: X[0]**2+X[-1]**2,\n",
    "    # lambda X: sum(torch.cos(X)),\n",
    "]\n",
    "\n",
    "\n",
    "dim = 10 # dimension of x\n",
    "step_size = 0.1 # Eta\n",
    "num_agents = len(agents_cost) # number of agents\n",
    "num_faulty = 0 # current number of faulty agents\n",
    "max_num_faulty = num_agents - 2\n",
    "fault_rate = 0.0\n",
    "\n",
    "\n",
    "X = torch.randint(low=-10000, high=10000, size=(dim, )).to(torch.float)\n",
    "# X = torch.rand((dim, ))\n",
    "losses = []\n",
    "for _ in range(10):\n",
    "    time.sleep(0.5)\n",
    "    gradients = []\n",
    "    faulty_agents = []\n",
    "    X = Variable(X, requires_grad=True)\n",
    "    for i, cost in enumerate(agents_cost):\n",
    "        if cost is None:\n",
    "            continue\n",
    "        y = cost(X)\n",
    "        y.backward()\n",
    "        is_failed = decision(fault_rate)\n",
    "        if num_faulty < max_num_faulty and is_failed:\n",
    "            num_faulty += 1\n",
    "            faulty_agents.append(i)\n",
    "        else:\n",
    "            gradients.append(X.grad.clone())\n",
    "        X.grad.zero_()\n",
    "    \n",
    "    for index in faulty_agents:\n",
    "        agents_cost[index] = None\n",
    "        \n",
    "    if len(faulty_agents) > 0:\n",
    "        print(\"\\nfaulty agents:\", faulty_agents)\n",
    "    \n",
    "    new_grad = CGEFilter(gradients, num_agents, num_faulty)\n",
    "    X = X.data - step_size*new_grad\n",
    "    step_size *= 0.98 # diminishing step size\n",
    "\n",
    "    loss = 0.0\n",
    "    for cost in agents_cost:\n",
    "        if cost is not None:\n",
    "            loss += cost(X)\n",
    "    print(f'step: {_} | loss: {loss.item():4f} | grad norm: {new_grad.norm().item():4f} | step size: {step_size:6f}', end='\\r')\n",
    "    losses.append(loss.item())"
   ]
  },
  {
   "cell_type": "code",
   "execution_count": 16,
   "metadata": {},
   "outputs": [
    {
     "data": {
      "image/png": "[encoded data removed]",
      "text/plain": [
       "<Figure size 640x480 with 1 Axes>"
      ]
     },
     "metadata": {},
     "output_type": "display_data"
    }
   ],
   "source": [
    "plt.style.use('bmh')\n",
    "plt.plot(losses)\n",
    "plt.title('loss')\n",
    "plt.show()"
   ]
  },
  {
   "cell_type": "markdown",
   "metadata": {},
   "source": [
    "## Linearization Method"
   ]
  },
  {
   "cell_type": "code",
   "execution_count": 2,
   "metadata": {},
   "outputs": [],
   "source": [
    "import scipy.optimize as opt\n",
    "from scipy.optimize import LinearConstraint, NonlinearConstraint, Bounds"
   ]
  },
  {
   "cell_type": "code",
   "execution_count": 3,
   "metadata": {},
   "outputs": [],
   "source": [
    "def Gradient(func: Callable, X: torch.Tensor):\n",
    "    tmp = Variable(X, requires_grad=True)\n",
    "    try:\n",
    "        func(tmp).backward()\n",
    "        grad = tmp.grad.clone().data\n",
    "        return grad\n",
    "    # the zero constraint function would throw\n",
    "    except AttributeError as err:\n",
    "        if func(tmp) != 0.0:\n",
    "            raise(err)\n",
    "        return torch.zeros(X.shape)"
   ]
  },
  {
   "cell_type": "code",
   "execution_count": 241,
   "metadata": {},
   "outputs": [],
   "source": [
    "'''\n",
    "δ, subscript of I(X), should be non-negative\n",
    "inf implies I_δ(X) == I(X)\n",
    "'''\n",
    "DELTA = torch.inf \n",
    "N = 1\n",
    "EPSILON = 0.5\n",
    "\n"
   ]
  },
  {
   "cell_type": "code",
   "execution_count": 327,
   "metadata": {},
   "outputs": [
    {
     "name": "stdout",
     "output_type": "stream",
     "text": [
      "tensor([ 30., -20.])\n"
     ]
    },
    {
     "data": {
      "text/plain": [
       "     fun: 0.9999997127214766\n",
       "     jac: array([-0.00018913,  0.00389484])\n",
       " message: 'Optimization terminated successfully'\n",
       "    nfev: 48\n",
       "     nit: 15\n",
       "    njev: 15\n",
       "  status: 0\n",
       " success: True\n",
       "       x: array([ 0.00237873, -0.00012077])"
      ]
     },
     "execution_count": 327,
     "metadata": {},
     "output_type": "execute_result"
    }
   ],
   "source": [
    "obj = lambda X: X[0]*X[1]+1  # x*y + 1\n",
    "cons =[\n",
    "    lambda X: sum(X**2) - 1,   # x^2 + y^2 + 1\n",
    "    lambda X: abs(X[0]) + abs(X[1]) - 1,\n",
    "    lambda X: X[0]**3 + X[1]**2, # x^3 + y^2\n",
    "    lambda X: 0.0, # the assumption on the top of page 44\n",
    "]\n",
    "\n",
    "# initial guess\n",
    "# X = torch.randint(low=-200, high=200, size=(2, )).to(torch.float)\n",
    "# X = torch.Tensor([300.0, -200.0])\n",
    "X = torch.Tensor([30.0, -20.0])\n",
    "print(X)\n",
    "\n",
    "# real answer\n",
    "res = opt.minimize(obj, X, constraints=[NonlinearConstraint(i, -torch.inf, 0) for i in cons])\n",
    "res"
   ]
  },
  {
   "cell_type": "code",
   "execution_count": 328,
   "metadata": {},
   "outputs": [
    {
     "name": "stdout",
     "output_type": "stream",
     "text": [
      "X: (0.242733, -0.127528), obj: 0.9690445766511555, alpha: 1.1368683772161603e-13, |p|: 0.010820\r"
     ]
    }
   ],
   "source": [
    "# Our ans\n",
    "positions = [X]\n",
    "num_iterate = 50\n",
    "for _ in range(num_iterate):\n",
    "    '''Find I_δ(X)'''\n",
    "    F = lambda X: max([f(X) for f in cons])\n",
    "    I_delta = []\n",
    "    for i, f_i in enumerate(cons):\n",
    "        if f_i(X) >= F(X) - DELTA:\n",
    "            I_delta.append(i)\n",
    "    '''approximate objective'''\n",
    "    quad_obj = lambda p: np.dot(Gradient(obj, X), p) + 0.5*np.dot(p, p)\n",
    "\n",
    "    '''approximate constrants'''\n",
    "    grad_of_cons = []\n",
    "    val_of_cons = []\n",
    "    for i in I_delta:\n",
    "        val_of_cons.append(cons[i](X))\n",
    "        grad_of_cons.append(Gradient(cons[i], X))\n",
    "\n",
    "    # linear_cons = [np.dot(grad, p) + val for grad, val in zip(grad_of_cons, val_of_cons)]\n",
    "\n",
    "    res = opt.minimize(quad_obj, X, constraints=[LinearConstraint(grad, -np.inf, -val) for grad, val in zip(grad_of_cons, val_of_cons)])\n",
    "    if not res.success:\n",
    "        print(res)\n",
    "        raise(BaseException)\n",
    "    p = (res.x) # solution of the quadratic programming problem\n",
    "\n",
    "    alpha = 1\n",
    "    while obj(X + alpha*p) + N*F(X + alpha*p) > obj(X) + N*F(X) - alpha*EPSILON*np.dot(p, p):\n",
    "        alpha /= 2\n",
    "\n",
    "    X += alpha*p\n",
    "    positions.append(X)\n",
    "    print(f'X: ({X[0]:4f}, {X[1]:4f}), obj: {obj(X)}, alpha: {alpha}, |p|: {sum(p**2):4f}', end='\\r')\n",
    "    time.sleep(.1)\n"
   ]
  },
  {
   "cell_type": "code",
   "execution_count": 326,
   "metadata": {},
   "outputs": [
    {
     "data": {
      "image/png": "[encoded data removed]",
      "text/plain": [
       "<Figure size 640x480 with 1 Axes>"
      ]
     },
     "metadata": {},
     "output_type": "display_data"
    }
   ],
   "source": [
    "# positions = positions[3:]\n",
    "plt.scatter([pos[0] for pos in positions],[ pos[1] for pos in positions])\n",
    "plt.show()"
   ]
  },
  {
   "cell_type": "code",
   "execution_count": 195,
   "metadata": {},
   "outputs": [
    {
     "data": {
      "text/plain": [
       "tensor([2.7183, 7.3891])"
      ]
     },
     "execution_count": 195,
     "metadata": {},
     "output_type": "execute_result"
    }
   ],
   "source": [
    "torch.exp(torch.from_numpy(np.array([1, 2])))"
   ]
  },
  {
   "cell_type": "code",
   "execution_count": null,
   "metadata": {},
   "outputs": [],
   "source": []
  }
 ],
 "metadata": {
  "kernelspec": {
   "display_name": "Python 3.8.13 ('dlcv')",
   "language": "python",
   "name": "python3"
  },
  "language_info": {
   "codemirror_mode": {
    "name": "ipython",
    "version": 3
   },
   "file_extension": ".py",
   "mimetype": "text/x-python",
   "name": "python",
   "nbconvert_exporter": "python",
   "pygments_lexer": "ipython3",
   "version": "3.8.13"
  },
  "orig_nbformat": 4,
  "vscode": {
   "interpreter": {
    "hash": "62983b6d8f8ea55344cea7c4417a959d77fe401c2a3bea8ffcff121d0950ec99"
   }
  }
 },
 "nbformat": 4,
 "nbformat_minor": 2
}
