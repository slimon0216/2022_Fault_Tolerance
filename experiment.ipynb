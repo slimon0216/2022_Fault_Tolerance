{
 "cells": [
  {
   "cell_type": "code",
   "execution_count": 1,
   "metadata": {},
   "outputs": [],
   "source": [
    "import numpy as np\n",
    "from torch.autograd import Variable\n",
    "import torch\n",
    "import random\n",
    "from typing import List, Callable, Iterable\n",
    "import matplotlib.pyplot as plt\n",
    "import time\n",
    "import numdifftools as nd\n",
    "\n",
    "seed = 999\n",
    "torch.manual_seed(seed)\n",
    "random.seed(seed)"
   ]
  },
  {
   "cell_type": "markdown",
   "metadata": {},
   "source": [
    "## Gradient-Filter-based Distributed Gradient Descent"
   ]
  },
  {
   "cell_type": "code",
   "execution_count": 6,
   "metadata": {},
   "outputs": [],
   "source": [
    "\n",
    "def CGEFilter(gradients: List[torch.Tensor], n: int, f: int):\n",
    "    assert (f <= n)\n",
    "    tmp = sorted(gradients, key=lambda x: x.norm())\n",
    "    return sum(tmp[:n-f])\n",
    "\n",
    "\n",
    "def decision(p):\n",
    "    '''Make the decision with probability p'''\n",
    "    return random.random() < p\n",
    "\n",
    "\n"
   ]
  },
  {
   "cell_type": "code",
   "execution_count": 7,
   "metadata": {},
   "outputs": [
    {
     "name": "stdout",
     "output_type": "stream",
     "text": [
      "step: 9 | loss: 7607934.500000 | grad norm: 0.688400 | step size: 0.081707327000\r"
     ]
    }
   ],
   "source": [
    "agents_cost = [\n",
    "    lambda X: sum((X-1000)**2),\n",
    "    lambda X: sum((X-5)**2),\n",
    "    lambda X: sum((X+7)**2),\n",
    "    lambda X: sum(X**2) - sum(X),\n",
    "    lambda X: X[0]**2+X[-1]**2,\n",
    "    # lambda X: sum(torch.cos(X)),\n",
    "]\n",
    "\n",
    "\n",
    "dim = 10 # dimension of x\n",
    "step_size = 0.1 # Eta\n",
    "num_agents = len(agents_cost) # number of agents\n",
    "num_faulty = 0 # current number of faulty agents\n",
    "max_num_faulty = num_agents - 2\n",
    "fault_rate = 0.0\n",
    "\n",
    "\n",
    "X = torch.randint(low=-10000, high=10000, size=(dim, )).to(torch.float)\n",
    "# X = torch.rand((dim, ))\n",
    "losses = []\n",
    "for _ in range(10):\n",
    "    time.sleep(0.5)\n",
    "    gradients = []\n",
    "    faulty_agents = []\n",
    "    X = Variable(X, requires_grad=True)\n",
    "    for i, cost in enumerate(agents_cost):\n",
    "        if cost is None:\n",
    "            continue\n",
    "        y = cost(X)\n",
    "        y.backward()\n",
    "        is_failed = decision(fault_rate)\n",
    "        if num_faulty < max_num_faulty and is_failed:\n",
    "            num_faulty += 1\n",
    "            faulty_agents.append(i)\n",
    "        else:\n",
    "            gradients.append(X.grad.clone())\n",
    "        X.grad.zero_()\n",
    "    \n",
    "    for index in faulty_agents:\n",
    "        agents_cost[index] = None\n",
    "        \n",
    "    if len(faulty_agents) > 0:\n",
    "        print(\"\\nfaulty agents:\", faulty_agents)\n",
    "    \n",
    "    new_grad = CGEFilter(gradients, num_agents, num_faulty)\n",
    "    X = X.data - step_size*new_grad\n",
    "    step_size *= 0.98 # diminishing step size\n",
    "\n",
    "    loss = 0.0\n",
    "    for cost in agents_cost:\n",
    "        if cost is not None:\n",
    "            loss += cost(X)\n",
    "    print(f'step: {_} | loss: {loss.item():4f} | grad norm: {new_grad.norm().item():4f} | step size: {step_size:6f}', end='\\r')\n",
    "    losses.append(loss.item())"
   ]
  },
  {
   "cell_type": "code",
   "execution_count": 51,
   "metadata": {},
   "outputs": [
    {
     "data": {
      "image/png": "[encoded data removed]",
      "text/plain": [
       "<Figure size 640x480 with 1 Axes>"
      ]
     },
     "metadata": {},
     "output_type": "display_data"
    }
   ],
   "source": [
    "plt.style.use('bmh')\n",
    "plt.plot(losses)\n",
    "plt.title('loss')\n",
    "plt.show()"
   ]
  },
  {
   "cell_type": "markdown",
   "metadata": {},
   "source": [
    "## Linearization Method"
   ]
  },
  {
   "cell_type": "code",
   "execution_count": 7,
   "metadata": {},
   "outputs": [],
   "source": [
    "import scipy.optimize as opt\n",
    "from scipy.optimize import LinearConstraint, NonlinearConstraint, Bounds"
   ]
  },
  {
   "cell_type": "code",
   "execution_count": 8,
   "metadata": {},
   "outputs": [],
   "source": [
    "\n",
    "def Gradient(func: Callable, X):\n",
    "        return nd.Gradient(func)(X)\n",
    "def Derivative(func: Callable, X, order):\n",
    "        return nd.Derivative(func, n=order)(X)\n"
   ]
  },
  {
   "cell_type": "code",
   "execution_count": 9,
   "metadata": {},
   "outputs": [],
   "source": [
    "'''\n",
    "δ, subscript of I(X), should be non-negative\n",
    "inf implies I_δ(X) == I(X)\n",
    "'''\n",
    "DELTA = np.inf \n",
    "N = 1\n",
    "EPSILON = 0.5\n",
    "\n"
   ]
  },
  {
   "cell_type": "code",
   "execution_count": 19,
   "metadata": {},
   "outputs": [
    {
     "name": "stdout",
     "output_type": "stream",
     "text": [
      "[ 3. -2.]\n"
     ]
    },
    {
     "data": {
      "text/plain": [
       "     fun: 0.9999995438662767\n",
       "     jac: array([-0.0003497 ,  0.00405482])\n",
       " message: 'Optimization terminated successfully'\n",
       "    nfev: 44\n",
       "     nit: 14\n",
       "    njev: 14\n",
       "  status: 0\n",
       " success: True\n",
       "       x: array([ 0.00308804, -0.00014771])"
      ]
     },
     "execution_count": 19,
     "metadata": {},
     "output_type": "execute_result"
    }
   ],
   "source": [
    "obj = lambda X: X[0]*X[1]+1  # x*y + 1\n",
    "cons =[\n",
    "    lambda X: 0.0, # the assumption on the top of page 44\n",
    "    lambda X: (X**2).sum() - 1,   # x^2 + y^2 + 1\n",
    "    lambda X: abs(X[0]) + abs(X[1]) - 1,\n",
    "    lambda X: X[0]**3 + X[1]**2, # x^3 + y^2\n",
    "    lambda X: np.exp(np.linalg.norm(X)) - 10,\n",
    "]\n",
    "\n",
    "# initial guess\n",
    "X = np.array([3.0, -2.0])\n",
    "print(X)\n",
    "\n",
    "# real answer\n",
    "res = opt.minimize(obj, X, constraints=[NonlinearConstraint(i, -np.inf, 0) for i in cons])\n",
    "res"
   ]
  },
  {
   "cell_type": "code",
   "execution_count": 20,
   "metadata": {},
   "outputs": [
    {
     "name": "stdout",
     "output_type": "stream",
     "text": [
      "fault\n",
      "[4]\n",
      "obj: 0.9690445762972901, X: (0.242733, -0.127528), alpha: 1.1368683772161603e-13, |p|: 0.010820\r"
     ]
    }
   ],
   "source": [
    "# Our ans\n",
    "positions = [X.copy()]\n",
    "num_iterate = 50\n",
    "\n",
    "def FindP():\n",
    "    '''Find I_δ(X)'''\n",
    "    F = lambda X: max([f(X) for f in cons])\n",
    "    I_delta = []\n",
    "    for i, f_i in enumerate(cons):\n",
    "        if f_i(X) >= F(X) - DELTA:\n",
    "            I_delta.append(i)\n",
    "    '''approximate objective'''\n",
    "    quad_obj = lambda p: np.dot(Gradient(obj, X), p) + 0.5*np.dot(p, p)\n",
    "\n",
    "    '''approximate constraints'''\n",
    "    grad_of_cons = []\n",
    "    val_of_cons = []\n",
    "    for i in I_delta:\n",
    "        val_of_cons.append(cons[i](X))\n",
    "        grad_of_cons.append(Gradient(cons[i], X))\n",
    "\n",
    "    # linear_cons = [np.dot(grad, p) + val for grad, val in zip(grad_of_cons, val_of_cons)]\n",
    "\n",
    "    res = opt.minimize(quad_obj, X, constraints=[LinearConstraint(grad, -np.inf, -val) for grad, val in zip(grad_of_cons, val_of_cons)])\n",
    "    if not res.success:\n",
    "        print(res)\n",
    "        raise(BaseException)\n",
    "    p = (res.x) # solution of the quadratic programming problem\n",
    "    return p, F\n",
    "\n",
    "# Optimization \n",
    "for _ in range(num_iterate):\n",
    "    p, F = FindP()\n",
    "    '''gradient filter'''\n",
    "    '''g_i(w) = f_i(x + w * p), w is scalar '''\n",
    "    gd_filter_threshold = 200\n",
    "    faulty_constraints = []\n",
    "    for i in range(len(cons)):\n",
    "        g_i = lambda w: cons[i](X + w*p)\n",
    "        if Derivative(g_i, 0, order=2) > gd_filter_threshold:\n",
    "            faulty_constraints.append(i)\n",
    "            print(\"fault\")\n",
    "    if (len(faulty_constraints) > 0):  # update honest constraints\n",
    "        tmp = []\n",
    "        print(faulty_constraints)\n",
    "        for idx in range(len(cons)):\n",
    "            if idx not in faulty_constraints:\n",
    "                tmp.append(cons[idx])\n",
    "        cons = tmp\n",
    "    p, F = FindP()\n",
    "\n",
    "    alpha = 1\n",
    "    while obj(X + alpha*p) + N*F(X + alpha*p) > obj(X) + N*F(X) - alpha*EPSILON*np.dot(p, p):\n",
    "        alpha /= 2\n",
    "\n",
    "    X += alpha*p\n",
    "    positions.append(X.copy())\n",
    "    print(f'obj: {obj(X)}, X: ({X[0]:4f}, {X[1]:4f}), alpha: {alpha}, |p|: {sum(p**2):4f}', end='\\r')\n",
    "    # time.sleep(1)\n",
    "    # break\n"
   ]
  },
  {
   "cell_type": "code",
   "execution_count": 21,
   "metadata": {},
   "outputs": [
    {
     "data": {
      "image/png": "[encoded data removed]",
      "text/plain": [
       "<Figure size 640x480 with 1 Axes>"
      ]
     },
     "metadata": {},
     "output_type": "display_data"
    }
   ],
   "source": [
    "positions = positions[5:]\n",
    "# positions\n",
    "plt.scatter([pos[0] for pos in positions],[ pos[1] for pos in positions])\n",
    "plt.show()"
   ]
  },
  {
   "cell_type": "code",
   "execution_count": null,
   "metadata": {},
   "outputs": [],
   "source": []
  }
 ],
 "metadata": {
  "kernelspec": {
   "display_name": "test",
   "language": "python",
   "name": "python3"
  },
  "language_info": {
   "codemirror_mode": {
    "name": "ipython",
    "version": 3
   },
   "file_extension": ".py",
   "mimetype": "text/x-python",
   "name": "python",
   "nbconvert_exporter": "python",
   "pygments_lexer": "ipython3",
   "version": "3.10.8"
  },
  "orig_nbformat": 4,
  "vscode": {
   "interpreter": {
    "hash": "81db59fee93d1ae0451e6d9aa8ee69c5995942abf5d946c38b5a044a19eec0b8"
   }
  }
 },
 "nbformat": 4,
 "nbformat_minor": 2
}
