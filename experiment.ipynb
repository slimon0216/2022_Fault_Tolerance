{
 "cells": [
  {
   "cell_type": "code",
   "execution_count": 1,
   "metadata": {},
   "outputs": [
    {
     "name": "stderr",
     "output_type": "stream",
     "text": [
      "/opt/homebrew/Caskroom/miniconda/base/envs/dlcv/lib/python3.8/site-packages/tqdm/auto.py:22: TqdmWarning: IProgress not found. Please update jupyter and ipywidgets. See https://ipywidgets.readthedocs.io/en/stable/user_install.html\n",
      "  from .autonotebook import tqdm as notebook_tqdm\n"
     ]
    }
   ],
   "source": [
    "import numpy as np\n",
    "from torch.autograd import Variable\n",
    "import torch\n",
    "import random\n",
    "from typing import List, Callable\n",
    "import matplotlib.pyplot as plt\n",
    "import time\n",
    "\n",
    "seed = 999\n",
    "torch.manual_seed(seed)\n",
    "random.seed(seed)"
   ]
  },
  {
   "cell_type": "markdown",
   "metadata": {},
   "source": [
    "## Gradient-Filter-based Distributed Gradient Descent"
   ]
  },
  {
   "cell_type": "code",
   "execution_count": 9,
   "metadata": {},
   "outputs": [],
   "source": [
    "\n",
    "def CGEFilter(gradients: List[torch.Tensor], n: int, f: int):\n",
    "    assert (f <= n)\n",
    "    tmp = sorted(gradients, key=lambda x: x.norm())\n",
    "    return sum(tmp[:n-f])\n",
    "\n",
    "\n",
    "def decision(p):\n",
    "    '''Make the decision with probability p'''\n",
    "    return random.random() < p\n",
    "\n",
    "\n"
   ]
  },
  {
   "cell_type": "code",
   "execution_count": 15,
   "metadata": {},
   "outputs": [
    {
     "name": "stdout",
     "output_type": "stream",
     "text": [
      "step: 9 | loss: 7607934.500000 | grad norm: 0.688400 | step size: 0.081707327000\r"
     ]
    }
   ],
   "source": [
    "agents_cost = [\n",
    "    lambda X: sum((X-1000)**2),\n",
    "    lambda X: sum((X-5)**2),\n",
    "    lambda X: sum((X+7)**2),\n",
    "    lambda X: sum(X**2) - sum(X),\n",
    "    lambda X: X[0]**2+X[-1]**2,\n",
    "    # lambda X: sum(torch.cos(X)),\n",
    "]\n",
    "\n",
    "\n",
    "dim = 10 # dimension of x\n",
    "step_size = 0.1 # Eta\n",
    "num_agents = len(agents_cost) # number of agents\n",
    "num_faulty = 0 # current number of faulty agents\n",
    "max_num_faulty = num_agents - 2\n",
    "fault_rate = 0.0\n",
    "\n",
    "\n",
    "X = torch.randint(low=-10000, high=10000, size=(dim, )).to(torch.float)\n",
    "# X = torch.rand((dim, ))\n",
    "losses = []\n",
    "for _ in range(10):\n",
    "    time.sleep(0.5)\n",
    "    gradients = []\n",
    "    faulty_agents = []\n",
    "    X = Variable(X, requires_grad=True)\n",
    "    for i, cost in enumerate(agents_cost):\n",
    "        if cost is None:\n",
    "            continue\n",
    "        y = cost(X)\n",
    "        y.backward()\n",
    "        is_failed = decision(fault_rate)\n",
    "        if num_faulty < max_num_faulty and is_failed:\n",
    "            num_faulty += 1\n",
    "            faulty_agents.append(i)\n",
    "        else:\n",
    "            gradients.append(X.grad.clone())\n",
    "        X.grad.zero_()\n",
    "    \n",
    "    for index in faulty_agents:\n",
    "        agents_cost[index] = None\n",
    "        \n",
    "    if len(faulty_agents) > 0:\n",
    "        print(\"\\nfaulty agents:\", faulty_agents)\n",
    "    \n",
    "    new_grad = CGEFilter(gradients, num_agents, num_faulty)\n",
    "    X = X.data - step_size*new_grad\n",
    "    step_size *= 0.98 # diminishing step size\n",
    "\n",
    "    loss = 0.0\n",
    "    for cost in agents_cost:\n",
    "        if cost is not None:\n",
    "            loss += cost(X)\n",
    "    print(f'step: {_} | loss: {loss.item():4f} | grad norm: {new_grad.norm().item():4f} | step size: {step_size:6f}', end='\\r')\n",
    "    losses.append(loss.item())"
   ]
  },
  {
   "cell_type": "code",
   "execution_count": 16,
   "metadata": {},
   "outputs": [
    {
     "data": {
      "image/png": "[encoded data removed]",
      "text/plain": [
       "<Figure size 640x480 with 1 Axes>"
      ]
     },
     "metadata": {},
     "output_type": "display_data"
    }
   ],
   "source": [
    "plt.style.use('bmh')\n",
    "plt.plot(losses)\n",
    "plt.title('loss')\n",
    "plt.show()"
   ]
  },
  {
   "cell_type": "markdown",
   "metadata": {},
   "source": [
    "## Linearization Method"
   ]
  },
  {
   "cell_type": "code",
   "execution_count": 2,
   "metadata": {},
   "outputs": [],
   "source": [
    "import scipy.optimize as opt\n",
    "from scipy.optimize import LinearConstraint, NonlinearConstraint, Bounds"
   ]
  },
  {
   "cell_type": "code",
   "execution_count": 3,
   "metadata": {},
   "outputs": [],
   "source": [
    "def Gradient(func: Callable, X: torch.Tensor):\n",
    "    tmp = Variable(X, requires_grad=True)\n",
    "    try:\n",
    "        func(tmp).backward()\n",
    "        grad = tmp.grad.clone().data\n",
    "        return grad\n",
    "    # the zero constraint function would throw\n",
    "    except AttributeError as err:\n",
    "        if func(tmp) != 0.0:\n",
    "            raise(err)\n",
    "        return torch.zeros(X.shape)"
   ]
  },
  {
   "cell_type": "code",
   "execution_count": 4,
   "metadata": {},
   "outputs": [
    {
     "data": {
      "text/plain": [
       "     fun: -2.000000000000064\n",
       "     jac: array([-2.,  1.])\n",
       " message: 'Optimization terminated successfully'\n",
       "    nfev: 9\n",
       "     nit: 3\n",
       "    njev: 3\n",
       "  status: 0\n",
       " success: True\n",
       "       x: array([ 1., -2.])"
      ]
     },
     "execution_count": 4,
     "metadata": {},
     "output_type": "execute_result"
    }
   ],
   "source": [
    "# constraint 1\n",
    "C1 = Bounds(np.array([-1, -np.inf]), np.array([1,np.inf]))\n",
    "\n",
    "# constraint 2\n",
    "A = np.array([[1,1],[0,1]])\n",
    "c = -2 * np.ones(2)\n",
    "d = 2 * np.ones(2)\n",
    "C2 = LinearConstraint(A, c, 0)\n",
    "\n",
    "f = lambda x : x[0]*x[1]\n",
    "sol = opt.minimize(f, np.random.rand(2), bounds=C1, constraints=(C2, ))\n",
    "sol\n"
   ]
  },
  {
   "cell_type": "code",
   "execution_count": 5,
   "metadata": {},
   "outputs": [],
   "source": [
    "'''\n",
    "δ, subscript of I(X), should be non-negative\n",
    "inf implies I_δ(X) == I(X)\n",
    "'''\n",
    "DELTA = torch.inf \n",
    "N = 1\n",
    "EPSILON = 0.5\n",
    "\n"
   ]
  },
  {
   "cell_type": "code",
   "execution_count": 10,
   "metadata": {},
   "outputs": [
    {
     "name": "stdout",
     "output_type": "stream",
     "text": [
      "tensor([ 9848., -7471.])\n"
     ]
    },
    {
     "data": {
      "text/plain": [
       "     fun: 0.49999983502066325\n",
       "     jac: array([-0.70711166,  0.70710213])\n",
       " message: 'Optimization terminated successfully'\n",
       "    nfev: 54\n",
       "     nit: 18\n",
       "    njev: 18\n",
       "  status: 0\n",
       " success: True\n",
       "       x: array([ 0.70710213, -0.70711166])"
      ]
     },
     "execution_count": 10,
     "metadata": {},
     "output_type": "execute_result"
    }
   ],
   "source": [
    "obj = lambda X: X[0]*X[1]+1\n",
    "cons =[\n",
    "    lambda X: sum(X**2) - 1,   # x * y + 1\n",
    "    # lambda X: X[0]**2 + X[1]**2, # x^2 + y^2\n",
    "    lambda X: 0.0, # the assumption on the top of page 44\n",
    "]\n",
    "\n",
    "# initial guess\n",
    "X = torch.randint(low=-10000, high=10000, size=(2, )).to(torch.float)\n",
    "print(X)\n",
    "\n",
    "res = opt.minimize(obj, X, constraints=[NonlinearConstraint(i, -np.inf, 0) for i in cons])\n",
    "res"
   ]
  },
  {
   "cell_type": "code",
   "execution_count": 12,
   "metadata": {},
   "outputs": [
    {
     "name": "stdout",
     "output_type": "stream",
     "text": [
      "     fun: -76399472.40915693\n",
      "     jac: array([0., 0.])\n",
      " message: 'Positive directional derivative for linesearch'\n",
      "    nfev: 61\n",
      "     nit: 13\n",
      "    njev: 9\n",
      "  status: 8\n",
      " success: False\n",
      "       x: array([ 7471.33367566, -9848.26522946])\n"
     ]
    },
    {
     "ename": "BaseException",
     "evalue": "",
     "output_type": "error",
     "traceback": [
      "\u001b[0;31m---------------------------------------------------------------------------\u001b[0m",
      "\u001b[0;31mBaseException\u001b[0m                             Traceback (most recent call last)",
      "\u001b[1;32m/Users/slimon/myfiles/111/計算機容錯/experiment.ipynb Cell 12\u001b[0m in \u001b[0;36m<cell line: 2>\u001b[0;34m()\u001b[0m\n\u001b[1;32m     <a href='vscode-notebook-cell:/Users/slimon/myfiles/111/%E8%A8%88%E7%AE%97%E6%A9%9F%E5%AE%B9%E9%8C%AF/experiment.ipynb#Y103sZmlsZQ%3D%3D?line=23'>24</a>\u001b[0m \u001b[39mif\u001b[39;00m \u001b[39mnot\u001b[39;00m res\u001b[39m.\u001b[39msuccess:\n\u001b[1;32m     <a href='vscode-notebook-cell:/Users/slimon/myfiles/111/%E8%A8%88%E7%AE%97%E6%A9%9F%E5%AE%B9%E9%8C%AF/experiment.ipynb#Y103sZmlsZQ%3D%3D?line=24'>25</a>\u001b[0m     \u001b[39mprint\u001b[39m(res)\n\u001b[0;32m---> <a href='vscode-notebook-cell:/Users/slimon/myfiles/111/%E8%A8%88%E7%AE%97%E6%A9%9F%E5%AE%B9%E9%8C%AF/experiment.ipynb#Y103sZmlsZQ%3D%3D?line=25'>26</a>\u001b[0m     \u001b[39mraise\u001b[39;00m(\u001b[39mBaseException\u001b[39;00m)\n\u001b[1;32m     <a href='vscode-notebook-cell:/Users/slimon/myfiles/111/%E8%A8%88%E7%AE%97%E6%A9%9F%E5%AE%B9%E9%8C%AF/experiment.ipynb#Y103sZmlsZQ%3D%3D?line=26'>27</a>\u001b[0m p \u001b[39m=\u001b[39m (res\u001b[39m.\u001b[39mx) \u001b[39m# solution of the quadratic programming problem\u001b[39;00m\n\u001b[1;32m     <a href='vscode-notebook-cell:/Users/slimon/myfiles/111/%E8%A8%88%E7%AE%97%E6%A9%9F%E5%AE%B9%E9%8C%AF/experiment.ipynb#Y103sZmlsZQ%3D%3D?line=27'>28</a>\u001b[0m \u001b[39m# print(res)\u001b[39;00m\n",
      "\u001b[0;31mBaseException\u001b[0m: "
     ]
    }
   ],
   "source": [
    "positions = [X]\n",
    "for i in range(1):\n",
    "    '''Find I_δ(X)'''\n",
    "    F = lambda X: max([f(X) for f in cons])\n",
    "    I_delta = []\n",
    "    for i, f_i in enumerate(cons):\n",
    "        if f_i(X) >= F(X) - DELTA:\n",
    "            I_delta.append(i)\n",
    "    '''approximate objective'''\n",
    "    quad_obj = lambda p: np.dot(Gradient(obj, X), p) + 0.5*np.dot(p, p)\n",
    "\n",
    "    '''approximate constrants'''\n",
    "    grad_of_cons = []\n",
    "    val_of_cons = []\n",
    "    for i in I_delta:\n",
    "        val_of_cons.append(cons[i](X))\n",
    "        grad_of_cons.append(Gradient(cons[i], X))\n",
    "    # print(val_of_cons)\n",
    "    # print(grad_of_cons)\n",
    "\n",
    "    linear_cons = [lambda p, grad=grad, val=val: np.dot(grad, p) + val for grad, val in zip(grad_of_cons, val_of_cons)]\n",
    "\n",
    "    res = opt.minimize(quad_obj, X, constraints=[NonlinearConstraint(linear_cons[0], -np.inf, 0)])\n",
    "    if not res.success:\n",
    "        print(res)\n",
    "        raise(BaseException)\n",
    "    p = (res.x) # solution of the quadratic programming problem\n",
    "    # print(res)\n",
    "\n",
    "    alpha = 1\n",
    "    while obj(X + alpha*p) + N*F(X + alpha*p) > obj(X) + N*F(X) - alpha*EPSILON*np.dot(p, p):\n",
    "        alpha /= 2\n",
    "    X += alpha*p\n",
    "    positions.append(X)\n",
    "    print(f'X: {X.tolist()}', f'obj: {obj(X)}', end='\\r')\n",
    "    # time.sleep(.1)\n"
   ]
  },
  {
   "cell_type": "code",
   "execution_count": 150,
   "metadata": {},
   "outputs": [
    {
     "name": "stdout",
     "output_type": "stream",
     "text": [
      "tensor([ 0.7071, -0.7071], dtype=torch.float64)\n",
      "tensor(0.5000, dtype=torch.float64)\n",
      "tensor(0.5000, dtype=torch.float64)\n"
     ]
    }
   ],
   "source": [
    "print(X)\n",
    "print(obj(X))\n",
    "print(obj(X+res.x))\n",
    "# print(quad_obj(res.x))"
   ]
  },
  {
   "cell_type": "code",
   "execution_count": 151,
   "metadata": {},
   "outputs": [
    {
     "data": {
      "image/png": "[encoded data removed]",
      "text/plain": [
       "<Figure size 640x480 with 1 Axes>"
      ]
     },
     "metadata": {},
     "output_type": "display_data"
    }
   ],
   "source": [
    "plt.scatter([pos[0] for pos in positions],[ pos[1] for pos in positions], label='solution')\n",
    "plt.show()"
   ]
  },
  {
   "cell_type": "code",
   "execution_count": null,
   "metadata": {},
   "outputs": [],
   "source": []
  }
 ],
 "metadata": {
  "kernelspec": {
   "display_name": "Python 3.8.13 ('dlcv')",
   "language": "python",
   "name": "python3"
  },
  "language_info": {
   "codemirror_mode": {
    "name": "ipython",
    "version": 3
   },
   "file_extension": ".py",
   "mimetype": "text/x-python",
   "name": "python",
   "nbconvert_exporter": "python",
   "pygments_lexer": "ipython3",
   "version": "3.8.13"
  },
  "orig_nbformat": 4,
  "vscode": {
   "interpreter": {
    "hash": "62983b6d8f8ea55344cea7c4417a959d77fe401c2a3bea8ffcff121d0950ec99"
   }
  }
 },
 "nbformat": 4,
 "nbformat_minor": 2
}
